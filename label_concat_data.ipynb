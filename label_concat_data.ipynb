{
 "cells": [
  {
   "cell_type": "code",
   "execution_count": 38,
   "metadata": {},
   "outputs": [
    {
     "name": "stdout",
     "output_type": "stream",
     "text": [
      "['id', '词数', '句子数', '每句话词数', 'pronoun', 'TenseM', 'social', 'affect', 'cogmech', 'percept', 'bio', 'label']\n",
      "['id', '词数', '句子数', '每句话词数', 'pronoun', 'TenseM', 'social', 'affect', 'cogmech', 'percept', 'bio', 'label']\n"
     ]
    }
   ],
   "source": [
    "import pandas\n",
    "import numpy as np\n",
    "import os\n",
    "\n",
    "fileType = \"7个主维度)\"\n",
    "os.chdir('C:\\\\Users\\\\61915\\\\Documents\\\\project_java\\\\rumorsData\\\\Data')\n",
    "data1 = pandas.read_csv(open(\"新闻公号liwc结果(\"+fileType+\".csv\"))\n",
    "data1['label'] = 1\n",
    "data2 = pandas.read_csv(open(\"第三方谣言liwc结果(50词以上\"+fileType+\".CSV\"))\n",
    "data2['label'] = 0\n",
    "print(data1.columns.values.tolist())\n",
    "print(data2.columns.values.tolist())\n",
    "d = pandas.concat([data1, data2], axis=0)\n",
    "n = d.iloc[:,0].size\n",
    "idx = np.arange(n)\n",
    "# cut_line = n*9//10\n",
    "np.random.shuffle(idx)\n",
    "d = d.iloc[idx]\n",
    "\n",
    "# d_train = d[0:cut_line]\n",
    "# d_test = d[cut_line:]\n",
    "# (n, d_train.iloc[:,0].size, d_test.iloc[:,0].size)\n",
    "# d_train.to_csv('train.csv')\n",
    "# d_test.to_csv('test.csv')\n",
    "d.to_csv(\"all-\"+fileType+\".csv\", index=False)"
   ]
  },
  {
   "cell_type": "code",
   "execution_count": 33,
   "metadata": {},
   "outputs": [],
   "source": [
    "pandas.DataFrame??"
   ]
  },
  {
   "cell_type": "code",
   "execution_count": 9,
   "metadata": {},
   "outputs": [
    {
     "data": {
      "text/plain": [
       "'C:\\\\Users\\\\61915\\\\Documents\\\\project_java\\\\rumorsData\\\\Data'"
      ]
     },
     "execution_count": 9,
     "metadata": {},
     "output_type": "execute_result"
    }
   ],
   "source": [
    "os.path.dirname('C:\\\\Users\\\\61915\\\\Documents\\\\project_java\\\\rumorsData\\\\Data\\\\新闻公号liwc结果(细分维度).csv')"
   ]
  }
 ],
 "metadata": {
  "kernelspec": {
   "display_name": "Python 3",
   "language": "python",
   "name": "python3"
  },
  "language_info": {
   "codemirror_mode": {
    "name": "ipython",
    "version": 3
   },
   "file_extension": ".py",
   "mimetype": "text/x-python",
   "name": "python",
   "nbconvert_exporter": "python",
   "pygments_lexer": "ipython3",
   "version": "3.6.4"
  }
 },
 "nbformat": 4,
 "nbformat_minor": 2
}
